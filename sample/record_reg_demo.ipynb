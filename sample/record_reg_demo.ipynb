{
 "cells": [
  {
   "cell_type": "code",
   "execution_count": 3,
   "source": [
    "import Exonodo"
   ],
   "outputs": [],
   "metadata": {}
  },
  {
   "cell_type": "markdown",
   "source": [
    "The published registration of metal hydrides could be archived by the zenodo_rec function as follows.\r\n",
    "A file *demo.xlsx* will be created in the sample folder."
   ],
   "metadata": {}
  },
  {
   "cell_type": "code",
   "execution_count": 4,
   "source": [
    "Exonodo.zenodo_sup.zenodo_rec(token = \"87EdGUa0eTuaYZMkc4PFrZnlyQrTDc3Eq2LnQKgXhyHs2UfhjHygqC3nH5YL\",\r\n",
    "                              path_save=\"./demo.xlsx\")"
   ],
   "outputs": [
    {
     "output_type": "stream",
     "name": "stdout",
     "text": [
      "             The MoLLIST dataset for 48Ti1H  \\\n",
      "0  {https://doi.org/10.5281/zenodo.5363278}   \n",
      "\n",
      "                 The LYT dataset for 45Sc1H  \\\n",
      "0  {https://doi.org/10.5281/zenodo.5363276}   \n",
      "\n",
      "              The Rivlin dataset for 23Na2H  \\\n",
      "0  {https://doi.org/10.5281/zenodo.5363271}   \n",
      "\n",
      "              The Rivlin dataset for 23Na1H  \\\n",
      "0  {https://doi.org/10.5281/zenodo.5363263}   \n",
      "\n",
      "               The Yadin dataset for 26Mg1H  \\\n",
      "0  {https://doi.org/10.5281/zenodo.5362941}   \n",
      "\n",
      "               The Yadin dataset for 25Mg1H  \\\n",
      "0  {https://doi.org/10.5281/zenodo.5362939}   \n",
      "\n",
      "             The MoLLIST dataset for 24Mg1H  \\\n",
      "0  {https://doi.org/10.5281/zenodo.5362933}   \n",
      "\n",
      "                  The CLT dataset for 7Li1H  \\\n",
      "0  {https://doi.org/10.5281/zenodo.5362931}   \n",
      "\n",
      "             The MoLLIST dataset for 56Fe1H  \\\n",
      "0  {https://doi.org/10.5281/zenodo.5362929}   \n",
      "\n",
      "             The MoLLIST dataset for 52Cr1H  \\\n",
      "0  {https://doi.org/10.5281/zenodo.5362927}   \n",
      "\n",
      "             The MoLLIST dataset for 40Ca1H  \\\n",
      "0  {https://doi.org/10.5281/zenodo.5362925}   \n",
      "\n",
      "          The Darby-Lewis dataset for 9Be3H  \\\n",
      "0  {https://doi.org/10.5281/zenodo.5362923}   \n",
      "\n",
      "          The Darby-Lewis dataset for 9Be2H  \\\n",
      "0  {https://doi.org/10.5281/zenodo.5362921}   \n",
      "\n",
      "          The Darby-Lewis dataset for 9Be1H  \\\n",
      "0  {https://doi.org/10.5281/zenodo.5362917}   \n",
      "\n",
      "            The AlHambra dataset for 27Al2H  \\\n",
      "0  {https://doi.org/10.5281/zenodo.5362915}   \n",
      "\n",
      "            The AlHambra dataset for 27Al1H  \\\n",
      "0  {https://doi.org/10.5281/zenodo.5362913}   \n",
      "\n",
      "            The AlHambra dataset for 26Al1H  \n",
      "0  {https://doi.org/10.5281/zenodo.5362911}  \n"
     ]
    }
   ],
   "metadata": {}
  }
 ],
 "metadata": {
  "orig_nbformat": 4,
  "language_info": {
   "name": "python",
   "version": "3.7.6",
   "mimetype": "text/x-python",
   "codemirror_mode": {
    "name": "ipython",
    "version": 3
   },
   "pygments_lexer": "ipython3",
   "nbconvert_exporter": "python",
   "file_extension": ".py"
  },
  "kernelspec": {
   "name": "python3",
   "display_name": "Python 3.7.6 64-bit ('base': conda)"
  },
  "interpreter": {
   "hash": "ccca987c7a6e7742f22372c5a318d7bb8739218f217cd254540643a8a63e8ed3"
  }
 },
 "nbformat": 4,
 "nbformat_minor": 2
}