{
 "cells": [
  {
   "cell_type": "code",
   "execution_count": 1,
   "source": [
    "# import Exonodo\r\n",
    "import Exonodo"
   ],
   "outputs": [],
   "metadata": {}
  },
  {
   "cell_type": "markdown",
   "source": [
    "Based on config_reg.json file, the program will load data_26Al1H.json and reigster the molecule 26Al1H.    \r\n",
    "This document is a simplified demonstration for Zenodo registration. Thus, files has been stored in ./sample/data/, instead of the real linux Exoweb environment.  \r\n",
    "Also, the following code will create and fill registration form and upload related files. But the registration will not be submitted/published and remain in the unpublished state.  \r\n",
    "Once the below code has been run. It will first search for the account and the unpublished registration. User could choose whether to keep or delete the unpublished registration.  \r\n",
    "Then the program will load and register the data_26Al1H.json file.\r\n",
    "Unfortunately, the user need the a associated with the token used in the demo to view the registration form on Zenodo website.\r\n",
    "\r\n",
    "If you replace the token with your own one as instructed in Sec. Demo in README.md. Please feel free to check the unpublished registration on the Zenodo webpage."
   ],
   "metadata": {}
  },
  {
   "cell_type": "code",
   "execution_count": 2,
   "source": [
    "# call the load_config() function to register 26Al1H\r\n",
    "Exonodo.load_config('config_reg.json')"
   ],
   "outputs": [
    {
     "output_type": "stream",
     "name": "stdout",
     "text": [
      "del deposition id:5497334 success\n",
      "metal hydrides\n",
      "    AlH\n",
      "        26Al1H\n",
      "The AlHambra dataset for 26Al1H, deposition id:5497336 filling is successful\n",
      "The AlHambra dataset for 26Al1H, deposition id:5497336 uploading is successful\n"
     ]
    }
   ],
   "metadata": {}
  }
 ],
 "metadata": {
  "orig_nbformat": 4,
  "language_info": {
   "name": "python",
   "version": "3.7.6",
   "mimetype": "text/x-python",
   "codemirror_mode": {
    "name": "ipython",
    "version": 3
   },
   "pygments_lexer": "ipython3",
   "nbconvert_exporter": "python",
   "file_extension": ".py"
  },
  "kernelspec": {
   "name": "python3",
   "display_name": "Python 3.7.6 64-bit ('base': conda)"
  },
  "interpreter": {
   "hash": "ccca987c7a6e7742f22372c5a318d7bb8739218f217cd254540643a8a63e8ed3"
  }
 },
 "nbformat": 4,
 "nbformat_minor": 2
}